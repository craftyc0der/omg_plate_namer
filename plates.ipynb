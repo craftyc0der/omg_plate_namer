{
 "cells": [
  {
   "cell_type": "code",
   "execution_count": 37,
   "metadata": {},
   "outputs": [],
   "source": [
    "import zbarlight\n",
    "import os \n",
    "from PIL import Image\n",
    "\n",
    "def decode_barcode( file_path ) :\n",
    "    if os.path.isfile( file_path ) :\n",
    "        with open(file_path, 'rb') as image_file:\n",
    "            image = Image.open(image_file)\n",
    "            image.load()\n",
    "            codes = zbarlight.scan_codes(['qrcode', 'code128'], image)\n",
    "            if len(codes) == 2 :\n",
    "                day = codes[0]\n",
    "                plate = codes[1]\n",
    "                if len(day) > 2 :\n",
    "                    day = codes[1]\n",
    "                    plate = codes[0]\n",
    "                day = day.zfill(2)\n",
    "                return plate.decode(\"utf-8\"), day.decode(\"utf-8\")\n",
    "    print ('barcode image scan failed [ %s ] is not a file.' % file)\n",
    "\n",
    "def rename_files( from_path, to_path, move ) :\n",
    "    if not os.path.exists( to_path ):\n",
    "        os.makedirs( to_path );\n",
    "    directory = os.fsencode( from_path )\n",
    "    for file in os.listdir( directory ) :\n",
    "        filename = os.fsdecode( file )\n",
    "        if filename.lower().endswith(\".jpg\") :\n",
    "            from_file = from_path + \"/\" + filename\n",
    "            plate, day = decode_barcode( from_file )\n",
    "            to_file = '%s/%s_%s.jpg' % (to_path, plate, day)\n",
    "            if move:\n",
    "                # move the file\n",
    "                os.rename(from_file, to_file)\n",
    "            else :\n",
    "                # copy the file\n",
    "                os.popen('cp %s %s' % (from_file, to_file))\n",
    "            print ('%s -> %s' % (from_file, to_file))\n"
   ]
  },
  {
   "cell_type": "code",
   "execution_count": 38,
   "metadata": {},
   "outputs": [
    {
     "name": "stdout",
     "output_type": "stream",
     "text": [
      "./images/IMG_0412.jPG -> ./sorted/100001_17.jpg\n",
      "./images/IMG_0413.JPG -> ./sorted/100024_17.jpg\n",
      "./images/IMG_0414.JPG -> ./sorted/100000_17.jpg\n",
      "./images/IMG_0415.JPG -> ./sorted/100000_09.jpg\n",
      "./images/IMG_0416.JPG -> ./sorted/100004_09.jpg\n",
      "./images/IMG_0417.JPG -> ./sorted/100001_09.jpg\n"
     ]
    }
   ],
   "source": [
    "rename_files( from_path=\"./images\", to_path=\"./sorted\", move=False )"
   ]
  },
  {
   "cell_type": "code",
   "execution_count": null,
   "metadata": {},
   "outputs": [],
   "source": []
  },
  {
   "cell_type": "code",
   "execution_count": null,
   "metadata": {},
   "outputs": [],
   "source": []
  }
 ],
 "metadata": {
  "kernelspec": {
   "display_name": "Python 3",
   "language": "python",
   "name": "python3"
  },
  "language_info": {
   "codemirror_mode": {
    "name": "ipython",
    "version": 3
   },
   "file_extension": ".py",
   "mimetype": "text/x-python",
   "name": "python",
   "nbconvert_exporter": "python",
   "pygments_lexer": "ipython3",
   "version": "3.7.6"
  }
 },
 "nbformat": 4,
 "nbformat_minor": 4
}
